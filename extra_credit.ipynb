{
 "cells": [
  {
   "cell_type": "code",
   "execution_count": 56,
   "metadata": {},
   "outputs": [
    {
     "name": "stdout",
     "output_type": "stream",
     "text": [
      "[{'lower': 'a', 'upper': 'A', 'index': 1}, {'lower': 'b', 'upper': 'B', 'index': 2}, {'lower': 'c', 'upper': 'C', 'index': 3}, {'lower': 'd', 'upper': 'D', 'index': 4}, {'lower': 'e', 'upper': 'E', 'index': 5}, {'lower': 'f', 'upper': 'F', 'index': 6}, {'lower': 'g', 'upper': 'G', 'index': 7}, {'lower': 'h', 'upper': 'H', 'index': 8}, {'lower': 'i', 'upper': 'I', 'index': 9}, {'lower': 'j', 'upper': 'J', 'index': 10}, {'lower': 'k', 'upper': 'K', 'index': 11}, {'lower': 'l', 'upper': 'L', 'index': 12}, {'lower': 'm', 'upper': 'M', 'index': 13}, {'lower': 'n', 'upper': 'N', 'index': 14}, {'lower': 'o', 'upper': 'O', 'index': 15}, {'lower': 'p', 'upper': 'P', 'index': 16}, {'lower': 'q', 'upper': 'Q', 'index': 17}, {'lower': 'r', 'upper': 'R', 'index': 18}, {'lower': 's', 'upper': 'S', 'index': 19}, {'lower': 't', 'upper': 'T', 'index': 20}, {'lower': 'u', 'upper': 'U', 'index': 21}, {'lower': 'v', 'upper': 'V', 'index': 22}, {'lower': 'w', 'upper': 'W', 'index': 23}, {'lower': 'x', 'upper': 'X', 'index': 24}, {'lower': 'y', 'upper': 'Y', 'index': 25}, {'lower': 'z', 'upper': 'Z', 'index': 26}]\n"
     ]
    }
   ],
   "source": [
    "import string\n",
    "letters = string.ascii_lowercase\n",
    "alphabet_data = []\n",
    "x = ['lower', 'upper', 'index']\n",
    "\n",
    "for letter in letters:\n",
    "    adict = dict(zip(x, (letter, letter.upper(), (letters.index(letter) + 1))))\n",
    "    alphabet_data.append(adict)\n",
    "print(alphabet_data)"
   ]
  },
  {
   "cell_type": "code",
   "execution_count": 58,
   "metadata": {},
   "outputs": [
    {
     "data": {
      "text/html": [
       "<div>\n",
       "<style scoped>\n",
       "    .dataframe tbody tr th:only-of-type {\n",
       "        vertical-align: middle;\n",
       "    }\n",
       "\n",
       "    .dataframe tbody tr th {\n",
       "        vertical-align: top;\n",
       "    }\n",
       "\n",
       "    .dataframe thead th {\n",
       "        text-align: right;\n",
       "    }\n",
       "</style>\n",
       "<table border=\"1\" class=\"dataframe\">\n",
       "  <thead>\n",
       "    <tr style=\"text-align: right;\">\n",
       "      <th></th>\n",
       "      <th>index</th>\n",
       "      <th>lower</th>\n",
       "      <th>upper</th>\n",
       "    </tr>\n",
       "  </thead>\n",
       "  <tbody>\n",
       "    <tr>\n",
       "      <th>0</th>\n",
       "      <td>1</td>\n",
       "      <td>a</td>\n",
       "      <td>A</td>\n",
       "    </tr>\n",
       "    <tr>\n",
       "      <th>1</th>\n",
       "      <td>2</td>\n",
       "      <td>b</td>\n",
       "      <td>B</td>\n",
       "    </tr>\n",
       "    <tr>\n",
       "      <th>2</th>\n",
       "      <td>3</td>\n",
       "      <td>c</td>\n",
       "      <td>C</td>\n",
       "    </tr>\n",
       "    <tr>\n",
       "      <th>3</th>\n",
       "      <td>4</td>\n",
       "      <td>d</td>\n",
       "      <td>D</td>\n",
       "    </tr>\n",
       "    <tr>\n",
       "      <th>4</th>\n",
       "      <td>5</td>\n",
       "      <td>e</td>\n",
       "      <td>E</td>\n",
       "    </tr>\n",
       "  </tbody>\n",
       "</table>\n",
       "</div>"
      ],
      "text/plain": [
       "   index lower upper\n",
       "0      1     a     A\n",
       "1      2     b     B\n",
       "2      3     c     C\n",
       "3      4     d     D\n",
       "4      5     e     E"
      ]
     },
     "execution_count": 58,
     "metadata": {},
     "output_type": "execute_result"
    }
   ],
   "source": [
    "import pandas as pd\n",
    "alphabet_df = pd.DataFrame(alphabet_data)\n",
    "alphabet_df.head()"
   ]
  },
  {
   "cell_type": "code",
   "execution_count": null,
   "metadata": {},
   "outputs": [],
   "source": []
  }
 ],
 "metadata": {
  "kernelspec": {
   "display_name": "learn-env",
   "language": "python",
   "name": "learn-env"
  },
  "language_info": {
   "codemirror_mode": {
    "name": "ipython",
    "version": 3
   },
   "file_extension": ".py",
   "mimetype": "text/x-python",
   "name": "python",
   "nbconvert_exporter": "python",
   "pygments_lexer": "ipython3",
   "version": "3.6.5"
  }
 },
 "nbformat": 4,
 "nbformat_minor": 2
}
